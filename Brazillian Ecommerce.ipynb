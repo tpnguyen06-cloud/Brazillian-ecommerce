{
    "metadata": {
        "kernelspec": {
            "name": "SQL",
            "display_name": "SQL",
            "language": "sql"
        },
        "language_info": {
            "name": "sql",
            "version": ""
        }
    },
    "nbformat_minor": 2,
    "nbformat": 4,
    "cells": [
        {
            "cell_type": "code",
            "source": [
                "SELECT TOP (5) *\n",
                "FROM [dbo].[Customer]"
            ],
            "metadata": {
                "azdata_cell_guid": "fc989898-b69d-4aab-842a-b193b6630f28",
                "language": "sql"
            },
            "outputs": [
                {
                    "output_type": "display_data",
                    "data": {
                        "text/html": "(5 rows affected)"
                    },
                    "metadata": {}
                },
                {
                    "output_type": "display_data",
                    "data": {
                        "text/html": "Total execution time: 00:00:00.054"
                    },
                    "metadata": {}
                },
                {
                    "output_type": "execute_result",
                    "execution_count": 6,
                    "data": {
                        "application/vnd.dataresource+json": {
                            "schema": {
                                "fields": [
                                    {
                                        "name": "customer_id"
                                    },
                                    {
                                        "name": "customer_unique_id"
                                    },
                                    {
                                        "name": "customer_zip_code_prefix"
                                    },
                                    {
                                        "name": "customer_city"
                                    },
                                    {
                                        "name": "customer_state"
                                    }
                                ]
                            },
                            "data": [
                                {
                                    "0": "06b8999e2fba1a1fbc88172c00ba8bc7",
                                    "1": "861eff4711a542e4b93843c6dd7febb0",
                                    "2": "14409",
                                    "3": "franca",
                                    "4": "SP"
                                },
                                {
                                    "0": "18955e83d337fd6b2def6b18a428ac77",
                                    "1": "290c77bc529b7ac935b93aa66c333dc3",
                                    "2": "9790",
                                    "3": "sao bernardo do campo",
                                    "4": "SP"
                                },
                                {
                                    "0": "4e7b3e00288586ebd08712fdd0374a03",
                                    "1": "060e732b5b29e8181a18229c7b0b2b5e",
                                    "2": "1151",
                                    "3": "sao paulo",
                                    "4": "SP"
                                },
                                {
                                    "0": "b2b6027bc5c5109e529d4dc6358b12c3",
                                    "1": "259dac757896d24d7702b9acbbff3f3c",
                                    "2": "8775",
                                    "3": "mogi das cruzes",
                                    "4": "SP"
                                },
                                {
                                    "0": "4f2d8ab171c80ec8364f7c12e35b23ad",
                                    "1": "345ecd01c38d18a9036ed96c73b8d066",
                                    "2": "13056",
                                    "3": "campinas",
                                    "4": "SP"
                                }
                            ]
                        },
                        "text/html": "<table><tr><th>customer_id</th><th>customer_unique_id</th><th>customer_zip_code_prefix</th><th>customer_city</th><th>customer_state</th></tr><tr><td>06b8999e2fba1a1fbc88172c00ba8bc7</td><td>861eff4711a542e4b93843c6dd7febb0</td><td>14409</td><td>franca</td><td>SP</td></tr><tr><td>18955e83d337fd6b2def6b18a428ac77</td><td>290c77bc529b7ac935b93aa66c333dc3</td><td>9790</td><td>sao bernardo do campo</td><td>SP</td></tr><tr><td>4e7b3e00288586ebd08712fdd0374a03</td><td>060e732b5b29e8181a18229c7b0b2b5e</td><td>1151</td><td>sao paulo</td><td>SP</td></tr><tr><td>b2b6027bc5c5109e529d4dc6358b12c3</td><td>259dac757896d24d7702b9acbbff3f3c</td><td>8775</td><td>mogi das cruzes</td><td>SP</td></tr><tr><td>4f2d8ab171c80ec8364f7c12e35b23ad</td><td>345ecd01c38d18a9036ed96c73b8d066</td><td>13056</td><td>campinas</td><td>SP</td></tr></table>"
                    },
                    "metadata": {}
                }
            ],
            "execution_count": 6
        },
        {
            "cell_type": "code",
            "source": [
                "/*Query total orders, total sales and total payments*/\n",
                "SELECT COUNT(a.order_id) AS Total_Orders,\n",
                "      ROUND(SUM(b.price + b.freight_value),2) AS Total_Sales,\n",
                "      ROUND(SUM(payment_value),2) AS Total_payments \n",
                "      FROM [dbo].[orders] AS a \n",
                "      INNER JOIN [dbo].[orderitems] AS b \n",
                "      ON a.order_id = b.order_id\n",
                "      INNER JOIN orderpayments AS c \n",
                "      ON a.order_id = c.order_id"
            ],
            "metadata": {
                "azdata_cell_guid": "5c4077b5-2318-43da-99ee-e05fe32e75ed",
                "language": "sql"
            },
            "outputs": [
                {
                    "output_type": "display_data",
                    "data": {
                        "text/html": "(1 row affected)"
                    },
                    "metadata": {}
                },
                {
                    "output_type": "display_data",
                    "data": {
                        "text/html": "Total execution time: 00:00:02.831"
                    },
                    "metadata": {}
                },
                {
                    "output_type": "execute_result",
                    "execution_count": 60,
                    "data": {
                        "application/vnd.dataresource+json": {
                            "schema": {
                                "fields": [
                                    {
                                        "name": "Total_Orders"
                                    },
                                    {
                                        "name": "Total_Sales"
                                    },
                                    {
                                        "name": "Total_payments"
                                    }
                                ]
                            },
                            "data": [
                                {
                                    "0": "117601",
                                    "1": "16566543.85",
                                    "2": "20308134.71"
                                }
                            ]
                        },
                        "text/html": "<table><tr><th>Total_Orders</th><th>Total_Sales</th><th>Total_payments</th></tr><tr><td>117601</td><td>16566543.85</td><td>20308134.71</td></tr></table>"
                    },
                    "metadata": {}
                }
            ],
            "execution_count": 60
        },
        {
            "cell_type": "code",
            "source": [
                "/* Query number orders got review 5 score and percentage of it*/\n",
                "SELECT SUM(v.review_5) AS order_review_5,\n",
                "       COUNT(v.total_orders) AS order_total,\n",
                "       ROUND(100*SUM(v.review_5)/COUNT(v.total_orders),0) AS percentage_rev_5\n",
                "FROM\n",
                "(SELECT CASE WHEN review_score = 5 THEN 1 ELSE 0 END AS review_5,\n",
                "       CASE WHEN review_score < 6 THEN 1 ELSE NULL END AS total_orders  \n",
                "FROM orderreviews) AS v"
            ],
            "metadata": {
                "azdata_cell_guid": "5ae6b31f-b9b8-44e3-ac39-a9e17f4c9bb2",
                "language": "sql",
                "tags": []
            },
            "outputs": [
                {
                    "output_type": "display_data",
                    "data": {
                        "text/html": "(1 row affected)"
                    },
                    "metadata": {}
                },
                {
                    "output_type": "display_data",
                    "data": {
                        "text/html": "Total execution time: 00:00:00.085"
                    },
                    "metadata": {}
                },
                {
                    "output_type": "execute_result",
                    "execution_count": 66,
                    "data": {
                        "application/vnd.dataresource+json": {
                            "schema": {
                                "fields": [
                                    {
                                        "name": "order_review_5"
                                    },
                                    {
                                        "name": "order_total"
                                    },
                                    {
                                        "name": "percentage_rev_5"
                                    }
                                ]
                            },
                            "data": [
                                {
                                    "0": "57328",
                                    "1": "99224",
                                    "2": "57"
                                }
                            ]
                        },
                        "text/html": "<table><tr><th>order_review_5</th><th>order_total</th><th>percentage_rev_5</th></tr><tr><td>57328</td><td>99224</td><td>57</td></tr></table>"
                    },
                    "metadata": {}
                }
            ],
            "execution_count": 66
        },
        {
            "cell_type": "code",
            "source": [
                "/*Total sales and total orders by month in each year 2016, 2017, 2018*/\n",
                "WITH cte_sales AS (SELECT FORMAT(order_approved_at, 'yyyy-MM') AS date_order,\n",
                "       ROUND(SUM(price+freight_value),2) as Total_sales,\n",
                "       YEAR(order_approved_at) as year,\n",
                "       MONTH(order_approved_at) as month,\n",
                "       COUNT(CASE WHEN order_approved_at LIKE '201%' THEN 1 ELSE NULL END) AS Total_orders\n",
                "FROM orders AS t \n",
                "INNER JOIN orderitems as u \n",
                "ON t.order_id = u.order_id\n",
                "GROUP BY YEAR(order_approved_at), MONTH(order_approved_at), \n",
                "         FORMAT(order_approved_at, 'yyyy-MM')\n",
                ")\n",
                "\n",
                "SELECT date_order, Total_sales, Total_orders \n",
                "FROM cte_sales\n",
                "ORDER BY date_order ASC\n",
                ""
            ],
            "metadata": {
                "azdata_cell_guid": "96bed5d8-dc21-48b4-88c1-f834c58b95e6",
                "language": "sql"
            },
            "outputs": [
                {
                    "output_type": "display_data",
                    "data": {
                        "text/html": "Warning: Null value is eliminated by an aggregate or other SET operation."
                    },
                    "metadata": {}
                },
                {
                    "output_type": "display_data",
                    "data": {
                        "text/html": "(25 rows affected)"
                    },
                    "metadata": {}
                },
                {
                    "output_type": "display_data",
                    "data": {
                        "text/html": "Total execution time: 00:00:19.099"
                    },
                    "metadata": {}
                },
                {
                    "output_type": "execute_result",
                    "metadata": {},
                    "execution_count": 118,
                    "data": {
                        "application/vnd.dataresource+json": {
                            "schema": {
                                "fields": [
                                    {
                                        "name": "date_order"
                                    },
                                    {
                                        "name": "Total_sales"
                                    },
                                    {
                                        "name": "Total_orders"
                                    }
                                ]
                            },
                            "data": [
                                {
                                    "0": "NULL",
                                    "1": "1954.6",
                                    "2": "0"
                                },
                                {
                                    "0": "2016-09",
                                    "1": "143.46",
                                    "2": "3"
                                },
                                {
                                    "0": "2016-10",
                                    "1": "57020.13",
                                    "2": "366"
                                },
                                {
                                    "0": "2016-12",
                                    "1": "19.62",
                                    "2": "1"
                                },
                                {
                                    "0": "2017-01",
                                    "1": "130840.55",
                                    "2": "908"
                                },
                                {
                                    "0": "2017-02",
                                    "1": "286135.92",
                                    "2": "1931"
                                },
                                {
                                    "0": "2017-03",
                                    "1": "428557.47",
                                    "2": "3022"
                                },
                                {
                                    "0": "2017-04",
                                    "1": "409570.85",
                                    "2": "2655"
                                },
                                {
                                    "0": "2017-05",
                                    "1": "587151.63",
                                    "2": "4130"
                                },
                                {
                                    "0": "2017-06",
                                    "1": "507643.19",
                                    "2": "3602"
                                },
                                {
                                    "0": "2017-07",
                                    "1": "578682.67",
                                    "2": "4464"
                                },
                                {
                                    "0": "2017-08",
                                    "1": "667538.84",
                                    "2": "4937"
                                },
                                {
                                    "0": "2017-09",
                                    "1": "711298.29",
                                    "2": "4852"
                                },
                                {
                                    "0": "2017-10",
                                    "1": "774558.11",
                                    "2": "5275"
                                },
                                {
                                    "0": "2017-11",
                                    "1": "1160507.39",
                                    "2": "8508"
                                },
                                {
                                    "0": "2017-12",
                                    "1": "888739.29",
                                    "2": "6504"
                                },
                                {
                                    "0": "2018-01",
                                    "1": "1098607.71",
                                    "2": "8100"
                                },
                                {
                                    "0": "2018-02",
                                    "1": "979180.57",
                                    "2": "7658"
                                },
                                {
                                    "0": "2018-03",
                                    "1": "1166468.84",
                                    "2": "8308"
                                },
                                {
                                    "0": "2018-04",
                                    "1": "1136538.25",
                                    "2": "7785"
                                },
                                {
                                    "0": "2018-05",
                                    "1": "1175998.25",
                                    "2": "8159"
                                },
                                {
                                    "0": "2018-06",
                                    "1": "1026814.46",
                                    "2": "7068"
                                },
                                {
                                    "0": "2018-07",
                                    "1": "1037272.77",
                                    "2": "6960"
                                },
                                {
                                    "0": "2018-08",
                                    "1": "1032143.92",
                                    "2": "7438"
                                },
                                {
                                    "0": "2018-09",
                                    "1": "166.46",
                                    "2": "1"
                                }
                            ]
                        },
                        "text/html": [
                            "<table>",
                            "<tr><th>date_order</th><th>Total_sales</th><th>Total_orders</th></tr>",
                            "<tr><td>NULL</td><td>1954.6</td><td>0</td></tr>",
                            "<tr><td>2016-09</td><td>143.46</td><td>3</td></tr>",
                            "<tr><td>2016-10</td><td>57020.13</td><td>366</td></tr>",
                            "<tr><td>2016-12</td><td>19.62</td><td>1</td></tr>",
                            "<tr><td>2017-01</td><td>130840.55</td><td>908</td></tr>",
                            "<tr><td>2017-02</td><td>286135.92</td><td>1931</td></tr>",
                            "<tr><td>2017-03</td><td>428557.47</td><td>3022</td></tr>",
                            "<tr><td>2017-04</td><td>409570.85</td><td>2655</td></tr>",
                            "<tr><td>2017-05</td><td>587151.63</td><td>4130</td></tr>",
                            "<tr><td>2017-06</td><td>507643.19</td><td>3602</td></tr>",
                            "<tr><td>2017-07</td><td>578682.67</td><td>4464</td></tr>",
                            "<tr><td>2017-08</td><td>667538.84</td><td>4937</td></tr>",
                            "<tr><td>2017-09</td><td>711298.29</td><td>4852</td></tr>",
                            "<tr><td>2017-10</td><td>774558.11</td><td>5275</td></tr>",
                            "<tr><td>2017-11</td><td>1160507.39</td><td>8508</td></tr>",
                            "<tr><td>2017-12</td><td>888739.29</td><td>6504</td></tr>",
                            "<tr><td>2018-01</td><td>1098607.71</td><td>8100</td></tr>",
                            "<tr><td>2018-02</td><td>979180.57</td><td>7658</td></tr>",
                            "<tr><td>2018-03</td><td>1166468.84</td><td>8308</td></tr>",
                            "<tr><td>2018-04</td><td>1136538.25</td><td>7785</td></tr>",
                            "<tr><td>2018-05</td><td>1175998.25</td><td>8159</td></tr>",
                            "<tr><td>2018-06</td><td>1026814.46</td><td>7068</td></tr>",
                            "<tr><td>2018-07</td><td>1037272.77</td><td>6960</td></tr>",
                            "<tr><td>2018-08</td><td>1032143.92</td><td>7438</td></tr>",
                            "<tr><td>2018-09</td><td>166.46</td><td>1</td></tr>",
                            "</table>"
                        ]
                    }
                }
            ],
            "execution_count": 118
        },
        {
            "cell_type": "code",
            "source": [
                "/* Total sales, average sales, number of orders, total payments and average payments by customer state and city*/\n",
                "WITH temp_customer AS (SELECT t.price, t.order_id, s.customer_id, t.payment_value, customer_city, customer_state \n",
                "FROM \n",
                "(SELECT v.order_id, v.price, u.customer_id, p.payment_value\n",
                "FROM orders AS u\n",
                "INNER JOIN orderitems AS v \n",
                "ON u.order_id = v.order_id\n",
                "INNER JOIN orderpayments as p \n",
                "ON u.order_id = p.order_id) AS t \n",
                "INNER JOIN Customer as s \n",
                "ON s.customer_id = t.customer_id)\n",
                "\n",
                "SELECT customer_state,\n",
                "       customer_city,\n",
                "       ROUND(AVG(price), 2) AS avg_sales, \n",
                "       ROUND(SUM(price),2) AS total_sales,\n",
                "       COUNT(order_id) AS total_orders,\n",
                "       ROUND(AVG(payment_value),2) AS avg_customer_payments,\n",
                "       ROUND(SUM(payment_value),2) AS total_customer_payments\n",
                "FROM temp_customer\n",
                "GROUP BY customer_state, customer_city\n",
                "ORDER BY total_orders DESC\n",
                ""
            ],
            "metadata": {
                "language": "sql",
                "azdata_cell_guid": "e9e4dec1-0b2c-45f4-b35d-c8db0d9d5cc2",
                "tags": []
            },
            "outputs": [
                {
                    "output_type": "display_data",
                    "data": {
                        "text/html": "(5 rows affected)"
                    },
                    "metadata": {}
                },
                {
                    "output_type": "display_data",
                    "data": {
                        "text/html": "Total execution time: 00:00:06.186"
                    },
                    "metadata": {}
                },
                {
                    "output_type": "execute_result",
                    "metadata": {},
                    "execution_count": 81,
                    "data": {
                        "application/vnd.dataresource+json": {
                            "schema": {
                                "fields": [
                                    {
                                        "name": "customer_state"
                                    },
                                    {
                                        "name": "customer_city"
                                    },
                                    {
                                        "name": "avg_sales"
                                    },
                                    {
                                        "name": "total_sales"
                                    },
                                    {
                                        "name": "total_orders"
                                    },
                                    {
                                        "name": "avg_customer_payments"
                                    },
                                    {
                                        "name": "total_customer_payments"
                                    }
                                ]
                            },
                            "data": [
                                {
                                    "0": "SP",
                                    "1": "sao paulo",
                                    "2": "108.03",
                                    "3": "2008254.39",
                                    "4": "18590",
                                    "5": "152.77",
                                    "6": "2839903.47"
                                },
                                {
                                    "0": "RJ",
                                    "1": "rio de janeiro",
                                    "2": "125.67",
                                    "3": "1030715.84",
                                    "4": "8202",
                                    "5": "191",
                                    "6": "1566591.49"
                                },
                                {
                                    "0": "MG",
                                    "1": "belo horizonte",
                                    "2": "113.02",
                                    "3": "366981.33",
                                    "4": "3247",
                                    "5": "154.38",
                                    "6": "501261.5"
                                },
                                {
                                    "0": "DF",
                                    "1": "brasilia",
                                    "2": "127.1",
                                    "3": "312274.57",
                                    "4": "2457",
                                    "5": "175.21",
                                    "6": "430499.43"
                                },
                                {
                                    "0": "PR",
                                    "1": "curitiba",
                                    "2": "120.8",
                                    "3": "218532.47",
                                    "4": "1809",
                                    "5": "182.05",
                                    "6": "329321.54"
                                }
                            ]
                        },
                        "text/html": [
                            "<table>",
                            "<tr><th>customer_state</th><th>customer_city</th><th>avg_sales</th><th>total_sales</th><th>total_orders</th><th>avg_customer_payments</th><th>total_customer_payments</th></tr>",
                            "<tr><td>SP</td><td>sao paulo</td><td>108.03</td><td>2008254.39</td><td>18590</td><td>152.77</td><td>2839903.47</td></tr>",
                            "<tr><td>RJ</td><td>rio de janeiro</td><td>125.67</td><td>1030715.84</td><td>8202</td><td>191</td><td>1566591.49</td></tr>",
                            "<tr><td>MG</td><td>belo horizonte</td><td>113.02</td><td>366981.33</td><td>3247</td><td>154.38</td><td>501261.5</td></tr>",
                            "<tr><td>DF</td><td>brasilia</td><td>127.1</td><td>312274.57</td><td>2457</td><td>175.21</td><td>430499.43</td></tr>",
                            "<tr><td>PR</td><td>curitiba</td><td>120.8</td><td>218532.47</td><td>1809</td><td>182.05</td><td>329321.54</td></tr>",
                            "</table>"
                        ]
                    }
                }
            ],
            "execution_count": 81
        },
        {
            "cell_type": "code",
            "source": [
                "/* Performance of seller on total number orders, total number of customers, total profit, total delivered orders and number of orders with 5 score review */\n",
                "WITH temp_seller AS (SELECT o.order_id, c.customer_id, \n",
                "       customer_unique_id, \n",
                "       customer_city, customer_state, i.price, i.freight_value,\n",
                "       s.seller_id, seller_city, seller_state,\n",
                "       order_status, review_score\n",
                "FROM orders AS o\n",
                "INNER JOIN Customer AS c \n",
                "ON o.customer_id = c.customer_id\n",
                "INNER JOIN orderitems AS i \n",
                "ON o.order_id = i.order_id \n",
                "INNER JOIN sellers AS s \n",
                "ON i.seller_id = s.seller_id\n",
                "INNER JOIN orderreviews AS r\n",
                "ON o.order_id = r.order_id)\n",
                "\n",
                "SELECT TOP(5) seller_id, COUNT(order_id) AS total_orders,\n",
                "       COUNT(customer_unique_id) AS total_customers,\n",
                "       ROUND(SUM(price-freight_value),2) AS profit,\n",
                "       SUM(CASE WHEN order_status = 'delivered' THEN 1 ELSE 0 END) AS total_delivered_orders,\n",
                "       SUM(CASE WHEN review_score > 4 THEN 1 ELSE 0 END) AS total_review5_score\n",
                "FROM temp_seller\n",
                "GROUP BY seller_id\n",
                "ORDER BY total_orders DESC\n",
                "\n",
                "\n",
                ""
            ],
            "metadata": {
                "language": "sql",
                "azdata_cell_guid": "45d6dbc7-347b-4013-9989-1ca90714cfe4"
            },
            "outputs": [
                {
                    "output_type": "display_data",
                    "data": {
                        "text/html": "(5 rows affected)"
                    },
                    "metadata": {}
                },
                {
                    "output_type": "display_data",
                    "data": {
                        "text/html": "Total execution time: 00:00:06.821"
                    },
                    "metadata": {}
                },
                {
                    "output_type": "execute_result",
                    "metadata": {},
                    "execution_count": 103,
                    "data": {
                        "application/vnd.dataresource+json": {
                            "schema": {
                                "fields": [
                                    {
                                        "name": "seller_id"
                                    },
                                    {
                                        "name": "total_orders"
                                    },
                                    {
                                        "name": "total_customers"
                                    },
                                    {
                                        "name": "profit"
                                    },
                                    {
                                        "name": "total_delivered_orders"
                                    },
                                    {
                                        "name": "total_review5_score"
                                    }
                                ]
                            },
                            "data": [
                                {
                                    "0": "6560211a19b47992c3666cc44a7e94c0",
                                    "1": "2020",
                                    "2": "2020",
                                    "3": "94658.35",
                                    "4": "1985",
                                    "5": "1024"
                                },
                                {
                                    "0": "4a3ca9315b744ce9f8e9374361493884",
                                    "1": "1984",
                                    "2": "1984",
                                    "3": "165541.16",
                                    "4": "1949",
                                    "5": "947"
                                },
                                {
                                    "0": "1f50f920176fa81dab994f9023523100",
                                    "1": "1932",
                                    "2": "1932",
                                    "3": "71849.25",
                                    "4": "1927",
                                    "5": "1096"
                                },
                                {
                                    "0": "cc419e0650a3c5ba77189a1882b7556a",
                                    "1": "1811",
                                    "2": "1811",
                                    "3": "79840.25",
                                    "4": "1755",
                                    "5": "1053"
                                },
                                {
                                    "0": "da8622b14eb17ae2831f4ac5b9dab84a",
                                    "1": "1568",
                                    "2": "1568",
                                    "3": "136787.37",
                                    "4": "1565",
                                    "5": "893"
                                }
                            ]
                        },
                        "text/html": [
                            "<table>",
                            "<tr><th>seller_id</th><th>total_orders</th><th>total_customers</th><th>profit</th><th>total_delivered_orders</th><th>total_review5_score</th></tr>",
                            "<tr><td>6560211a19b47992c3666cc44a7e94c0</td><td>2020</td><td>2020</td><td>94658.35</td><td>1985</td><td>1024</td></tr>",
                            "<tr><td>4a3ca9315b744ce9f8e9374361493884</td><td>1984</td><td>1984</td><td>165541.16</td><td>1949</td><td>947</td></tr>",
                            "<tr><td>1f50f920176fa81dab994f9023523100</td><td>1932</td><td>1932</td><td>71849.25</td><td>1927</td><td>1096</td></tr>",
                            "<tr><td>cc419e0650a3c5ba77189a1882b7556a</td><td>1811</td><td>1811</td><td>79840.25</td><td>1755</td><td>1053</td></tr>",
                            "<tr><td>da8622b14eb17ae2831f4ac5b9dab84a</td><td>1568</td><td>1568</td><td>136787.37</td><td>1565</td><td>893</td></tr>",
                            "</table>"
                        ]
                    }
                }
            ],
            "execution_count": 103
        },
        {
            "cell_type": "code",
            "source": [
                "/* Total profit and total orders of each product category */\n",
                "SELECT product_category_name,\n",
                "       ROUND(SUM(price-freight_value),2) AS total_profits,\n",
                "       ROUND(COUNT(order_id),2) AS total_orders\n",
                "FROM\n",
                "(SELECT i.product_id, order_id, price, \n",
                "       freight_value, product_category_name\n",
                "FROM orderitems AS i \n",
                "INNER JOIN products AS p \n",
                "ON i.product_id = p.product_id) AS p\n",
                "GROUP BY product_category_name\n",
                "ORDER BY total_profits DESC"
            ],
            "metadata": {
                "language": "sql",
                "azdata_cell_guid": "06d2b633-2fbe-47a9-9dfd-966b0672d426"
            },
            "outputs": [
                {
                    "output_type": "display_data",
                    "data": {
                        "text/html": "(74 rows affected)"
                    },
                    "metadata": {}
                },
                {
                    "output_type": "display_data",
                    "data": {
                        "text/html": "Total execution time: 00:00:01.689"
                    },
                    "metadata": {}
                },
                {
                    "output_type": "execute_result",
                    "metadata": {},
                    "execution_count": 117,
                    "data": {
                        "application/vnd.dataresource+json": {
                            "schema": {
                                "fields": [
                                    {
                                        "name": "product_category_name"
                                    },
                                    {
                                        "name": "total_profits"
                                    },
                                    {
                                        "name": "total_orders"
                                    }
                                ]
                            },
                            "data": [
                                {
                                    "0": "relogios_presentes",
                                    "1": "1104469.75",
                                    "2": "5991"
                                },
                                {
                                    "0": "beleza_saude",
                                    "1": "1076114.61",
                                    "2": "9670"
                                },
                                {
                                    "0": "cama_mesa_banho",
                                    "1": "832295.64",
                                    "2": "11115"
                                },
                                {
                                    "0": "esporte_lazer",
                                    "1": "819441.46",
                                    "2": "8641"
                                },
                                {
                                    "0": "informatica_acessorios",
                                    "1": "764636.24",
                                    "2": "7827"
                                },
                                {
                                    "0": "moveis_decoracao",
                                    "1": "557013.19",
                                    "2": "8334"
                                },
                                {
                                    "0": "cool_stuff",
                                    "1": "551251.75",
                                    "2": "3796"
                                },
                                {
                                    "0": "automotivo",
                                    "1": "500055.9",
                                    "2": "4235"
                                },
                                {
                                    "0": "utilidades_domesticas",
                                    "1": "486099.55",
                                    "2": "6964"
                                },
                                {
                                    "0": "brinquedos",
                                    "1": "406520.65",
                                    "2": "4117"
                                },
                                {
                                    "0": "ferramentas_jardim",
                                    "1": "386293.71",
                                    "2": "4347"
                                },
                                {
                                    "0": "perfumaria",
                                    "1": "344911.03",
                                    "2": "3419"
                                },
                                {
                                    "0": "bebes",
                                    "1": "343411.78",
                                    "2": "3065"
                                },
                                {
                                    "0": "telefonia",
                                    "1": "252451.74",
                                    "2": "4545"
                                },
                                {
                                    "0": "pcs",
                                    "1": "213126.83",
                                    "2": "203"
                                },
                                {
                                    "0": "moveis_escritorio",
                                    "1": "205388.75",
                                    "2": "1691"
                                },
                                {
                                    "0": "papelaria",
                                    "1": "184144.75",
                                    "2": "2517"
                                },
                                {
                                    "0": "pet_shop",
                                    "1": "174754.17",
                                    "2": "1947"
                                },
                                {
                                    "0": "eletroportateis",
                                    "1": "174628.33",
                                    "2": "679"
                                },
                                {
                                    "0": "instrumentos_musicais",
                                    "1": "172860.39",
                                    "2": "680"
                                },
                                {
                                    "0": "NULL",
                                    "1": "151365.47",
                                    "2": "1603"
                                },
                                {
                                    "0": "consoles_games",
                                    "1": "137637.2",
                                    "2": "1137"
                                },
                                {
                                    "0": "construcao_ferramentas_construcao",
                                    "1": "124027.18",
                                    "2": "929"
                                },
                                {
                                    "0": "fashion_bolsas_e_acessorios",
                                    "1": "121373.54",
                                    "2": "2031"
                                },
                                {
                                    "0": "eletronicos",
                                    "1": "113668.42",
                                    "2": "2767"
                                },
                                {
                                    "0": "malas_acessorios",
                                    "1": "109984.75",
                                    "2": "1092"
                                },
                                {
                                    "0": "eletrodomesticos_2",
                                    "1": "102717.56",
                                    "2": "238"
                                },
                                {
                                    "0": "casa_construcao",
                                    "1": "69255.88",
                                    "2": "604"
                                },
                                {
                                    "0": "agro_industria_e_comercio",
                                    "1": "66686.87",
                                    "2": "212"
                                },
                                {
                                    "0": "eletrodomesticos",
                                    "1": "65352.63",
                                    "2": "771"
                                },
                                {
                                    "0": "telefonia_fixa",
                                    "1": "54945.19",
                                    "2": "264"
                                },
                                {
                                    "0": "moveis_sala",
                                    "1": "50948.39",
                                    "2": "503"
                                },
                                {
                                    "0": "casa_conforto",
                                    "1": "50070.81",
                                    "2": "434"
                                },
                                {
                                    "0": "climatizacao",
                                    "1": "48275.73",
                                    "2": "297"
                                },
                                {
                                    "0": "audio",
                                    "1": "44978.06",
                                    "2": "364"
                                },
                                {
                                    "0": "portateis_casa_forno_e_cafe",
                                    "1": "44697.85",
                                    "2": "76"
                                },
                                {
                                    "0": "livros_interesse_geral",
                                    "1": "37661.36",
                                    "2": "553"
                                },
                                {
                                    "0": "construcao_ferramentas_seguranca",
                                    "1": "36625.42",
                                    "2": "194"
                                },
                                {
                                    "0": "moveis_cozinha_area_de_servico_jantar_e_jardim",
                                    "1": "34328.94",
                                    "2": "281"
                                },
                                {
                                    "0": "construcao_ferramentas_iluminacao",
                                    "1": "33496.2",
                                    "2": "304"
                                },
                                {
                                    "0": "industria_comercio_e_negocios",
                                    "1": "31784.93",
                                    "2": "268"
                                },
                                {
                                    "0": "market_place",
                                    "1": "22922.41",
                                    "2": "311"
                                },
                                {
                                    "0": "alimentos",
                                    "1": "22122.38",
                                    "2": "510"
                                },
                                {
                                    "0": "construcao_ferramentas_jardim",
                                    "1": "20404.49",
                                    "2": "238"
                                },
                                {
                                    "0": "artes",
                                    "1": "20157.47",
                                    "2": "209"
                                },
                                {
                                    "0": "fashion_calcados",
                                    "1": "18643.9",
                                    "2": "262"
                                },
                                {
                                    "0": "bebidas",
                                    "1": "16687.45",
                                    "2": "379"
                                },
                                {
                                    "0": "moveis_quarto",
                                    "1": "15396.55",
                                    "2": "109"
                                },
                                {
                                    "0": "sinalizacao_e_seguranca",
                                    "1": "15001.41",
                                    "2": "199"
                                },
                                {
                                    "0": "livros_tecnicos",
                                    "1": "14813",
                                    "2": "267"
                                },
                                {
                                    "0": "construcao_ferramentas_ferramentas",
                                    "1": "13873.73",
                                    "2": "103"
                                },
                                {
                                    "0": "alimentos_bebidas",
                                    "1": "10671.49",
                                    "2": "278"
                                },
                                {
                                    "0": "fashion_roupa_masculina",
                                    "1": "8645.41",
                                    "2": "132"
                                },
                                {
                                    "0": "fashion_underwear_e_moda_praia",
                                    "1": "7625.36",
                                    "2": "131"
                                },
                                {
                                    "0": "tablets_impressao_imagem",
                                    "1": "6302.21",
                                    "2": "83"
                                },
                                {
                                    "0": "cine_foto",
                                    "1": "5677.26",
                                    "2": "72"
                                },
                                {
                                    "0": "artigos_de_natal",
                                    "1": "5571.52",
                                    "2": "153"
                                },
                                {
                                    "0": "musica",
                                    "1": "5343.84",
                                    "2": "38"
                                },
                                {
                                    "0": "dvds_blu_ray",
                                    "1": "4710.65",
                                    "2": "64"
                                },
                                {
                                    "0": "livros_importados",
                                    "1": "3870",
                                    "2": "60"
                                },
                                {
                                    "0": "portateis_cozinha_e_preparadores_de_alimentos",
                                    "1": "3658.77",
                                    "2": "15"
                                },
                                {
                                    "0": "artigos_de_festas",
                                    "1": "3657.21",
                                    "2": "43"
                                },
                                {
                                    "0": "moveis_colchao_e_estofado",
                                    "1": "2737.62",
                                    "2": "38"
                                },
                                {
                                    "0": "fashion_roupa_feminina",
                                    "1": "2181.89",
                                    "2": "48"
                                },
                                {
                                    "0": "la_cuisine",
                                    "1": "1721.44",
                                    "2": "14"
                                },
                                {
                                    "0": "fashion_esporte",
                                    "1": "1541.38",
                                    "2": "30"
                                },
                                {
                                    "0": "artes_e_artesanato",
                                    "1": "1443.88",
                                    "2": "24"
                                },
                                {
                                    "0": "pc_gamer",
                                    "1": "1412.38",
                                    "2": "9"
                                },
                                {
                                    "0": "fraldas_higiene",
                                    "1": "993.91",
                                    "2": "39"
                                },
                                {
                                    "0": "flores",
                                    "1": "621.17",
                                    "2": "33"
                                },
                                {
                                    "0": "cds_dvds_musicais",
                                    "1": "505.01",
                                    "2": "14"
                                },
                                {
                                    "0": "fashion_roupa_infanto_juvenil",
                                    "1": "474.34",
                                    "2": "8"
                                },
                                {
                                    "0": "casa_conforto_2",
                                    "1": "349.96",
                                    "2": "30"
                                },
                                {
                                    "0": "seguros_e_servicos",
                                    "1": "242.07",
                                    "2": "2"
                                }
                            ]
                        },
                        "text/html": [
                            "<table>",
                            "<tr><th>product_category_name</th><th>total_profits</th><th>total_orders</th></tr>",
                            "<tr><td>relogios_presentes</td><td>1104469.75</td><td>5991</td></tr>",
                            "<tr><td>beleza_saude</td><td>1076114.61</td><td>9670</td></tr>",
                            "<tr><td>cama_mesa_banho</td><td>832295.64</td><td>11115</td></tr>",
                            "<tr><td>esporte_lazer</td><td>819441.46</td><td>8641</td></tr>",
                            "<tr><td>informatica_acessorios</td><td>764636.24</td><td>7827</td></tr>",
                            "<tr><td>moveis_decoracao</td><td>557013.19</td><td>8334</td></tr>",
                            "<tr><td>cool_stuff</td><td>551251.75</td><td>3796</td></tr>",
                            "<tr><td>automotivo</td><td>500055.9</td><td>4235</td></tr>",
                            "<tr><td>utilidades_domesticas</td><td>486099.55</td><td>6964</td></tr>",
                            "<tr><td>brinquedos</td><td>406520.65</td><td>4117</td></tr>",
                            "<tr><td>ferramentas_jardim</td><td>386293.71</td><td>4347</td></tr>",
                            "<tr><td>perfumaria</td><td>344911.03</td><td>3419</td></tr>",
                            "<tr><td>bebes</td><td>343411.78</td><td>3065</td></tr>",
                            "<tr><td>telefonia</td><td>252451.74</td><td>4545</td></tr>",
                            "<tr><td>pcs</td><td>213126.83</td><td>203</td></tr>",
                            "<tr><td>moveis_escritorio</td><td>205388.75</td><td>1691</td></tr>",
                            "<tr><td>papelaria</td><td>184144.75</td><td>2517</td></tr>",
                            "<tr><td>pet_shop</td><td>174754.17</td><td>1947</td></tr>",
                            "<tr><td>eletroportateis</td><td>174628.33</td><td>679</td></tr>",
                            "<tr><td>instrumentos_musicais</td><td>172860.39</td><td>680</td></tr>",
                            "<tr><td>NULL</td><td>151365.47</td><td>1603</td></tr>",
                            "<tr><td>consoles_games</td><td>137637.2</td><td>1137</td></tr>",
                            "<tr><td>construcao_ferramentas_construcao</td><td>124027.18</td><td>929</td></tr>",
                            "<tr><td>fashion_bolsas_e_acessorios</td><td>121373.54</td><td>2031</td></tr>",
                            "<tr><td>eletronicos</td><td>113668.42</td><td>2767</td></tr>",
                            "<tr><td>malas_acessorios</td><td>109984.75</td><td>1092</td></tr>",
                            "<tr><td>eletrodomesticos_2</td><td>102717.56</td><td>238</td></tr>",
                            "<tr><td>casa_construcao</td><td>69255.88</td><td>604</td></tr>",
                            "<tr><td>agro_industria_e_comercio</td><td>66686.87</td><td>212</td></tr>",
                            "<tr><td>eletrodomesticos</td><td>65352.63</td><td>771</td></tr>",
                            "<tr><td>telefonia_fixa</td><td>54945.19</td><td>264</td></tr>",
                            "<tr><td>moveis_sala</td><td>50948.39</td><td>503</td></tr>",
                            "<tr><td>casa_conforto</td><td>50070.81</td><td>434</td></tr>",
                            "<tr><td>climatizacao</td><td>48275.73</td><td>297</td></tr>",
                            "<tr><td>audio</td><td>44978.06</td><td>364</td></tr>",
                            "<tr><td>portateis_casa_forno_e_cafe</td><td>44697.85</td><td>76</td></tr>",
                            "<tr><td>livros_interesse_geral</td><td>37661.36</td><td>553</td></tr>",
                            "<tr><td>construcao_ferramentas_seguranca</td><td>36625.42</td><td>194</td></tr>",
                            "<tr><td>moveis_cozinha_area_de_servico_jantar_e_jardim</td><td>34328.94</td><td>281</td></tr>",
                            "<tr><td>construcao_ferramentas_iluminacao</td><td>33496.2</td><td>304</td></tr>",
                            "<tr><td>industria_comercio_e_negocios</td><td>31784.93</td><td>268</td></tr>",
                            "<tr><td>market_place</td><td>22922.41</td><td>311</td></tr>",
                            "<tr><td>alimentos</td><td>22122.38</td><td>510</td></tr>",
                            "<tr><td>construcao_ferramentas_jardim</td><td>20404.49</td><td>238</td></tr>",
                            "<tr><td>artes</td><td>20157.47</td><td>209</td></tr>",
                            "<tr><td>fashion_calcados</td><td>18643.9</td><td>262</td></tr>",
                            "<tr><td>bebidas</td><td>16687.45</td><td>379</td></tr>",
                            "<tr><td>moveis_quarto</td><td>15396.55</td><td>109</td></tr>",
                            "<tr><td>sinalizacao_e_seguranca</td><td>15001.41</td><td>199</td></tr>",
                            "<tr><td>livros_tecnicos</td><td>14813</td><td>267</td></tr>",
                            "<tr><td>construcao_ferramentas_ferramentas</td><td>13873.73</td><td>103</td></tr>",
                            "<tr><td>alimentos_bebidas</td><td>10671.49</td><td>278</td></tr>",
                            "<tr><td>fashion_roupa_masculina</td><td>8645.41</td><td>132</td></tr>",
                            "<tr><td>fashion_underwear_e_moda_praia</td><td>7625.36</td><td>131</td></tr>",
                            "<tr><td>tablets_impressao_imagem</td><td>6302.21</td><td>83</td></tr>",
                            "<tr><td>cine_foto</td><td>5677.26</td><td>72</td></tr>",
                            "<tr><td>artigos_de_natal</td><td>5571.52</td><td>153</td></tr>",
                            "<tr><td>musica</td><td>5343.84</td><td>38</td></tr>",
                            "<tr><td>dvds_blu_ray</td><td>4710.65</td><td>64</td></tr>",
                            "<tr><td>livros_importados</td><td>3870</td><td>60</td></tr>",
                            "<tr><td>portateis_cozinha_e_preparadores_de_alimentos</td><td>3658.77</td><td>15</td></tr>",
                            "<tr><td>artigos_de_festas</td><td>3657.21</td><td>43</td></tr>",
                            "<tr><td>moveis_colchao_e_estofado</td><td>2737.62</td><td>38</td></tr>",
                            "<tr><td>fashion_roupa_feminina</td><td>2181.89</td><td>48</td></tr>",
                            "<tr><td>la_cuisine</td><td>1721.44</td><td>14</td></tr>",
                            "<tr><td>fashion_esporte</td><td>1541.38</td><td>30</td></tr>",
                            "<tr><td>artes_e_artesanato</td><td>1443.88</td><td>24</td></tr>",
                            "<tr><td>pc_gamer</td><td>1412.38</td><td>9</td></tr>",
                            "<tr><td>fraldas_higiene</td><td>993.91</td><td>39</td></tr>",
                            "<tr><td>flores</td><td>621.17</td><td>33</td></tr>",
                            "<tr><td>cds_dvds_musicais</td><td>505.01</td><td>14</td></tr>",
                            "<tr><td>fashion_roupa_infanto_juvenil</td><td>474.34</td><td>8</td></tr>",
                            "<tr><td>casa_conforto_2</td><td>349.96</td><td>30</td></tr>",
                            "<tr><td>seguros_e_servicos</td><td>242.07</td><td>2</td></tr>",
                            "</table>"
                        ]
                    }
                }
            ],
            "execution_count": 117
        },
        {
            "cell_type": "code",
            "source": [
                "/* Top 5 city with the largest order amount in each year */\n",
                "WITH Temp_rank AS\n",
                "(SELECT Year, customer_id, customer_city,\n",
                "        order_amount,\n",
                "       DENSE_RANK() OVER(PARTITION BY Year ORDER BY order_amount DESC) AS Rank\n",
                "FROM\n",
                "(SELECT c.customer_id, customer_city,\n",
                "       o.order_id, payment_value AS order_amount,\n",
                "       FORMAT(order_approved_at, 'yyyy') AS Year\n",
                "FROM Customer AS c \n",
                "INNER JOIN orders AS o \n",
                "ON c.customer_id = o.customer_id\n",
                "INNER JOIN orderpayments as p \n",
                "ON o.order_id = p.order_id) AS d \n",
                "WHERE Year IS NOT NULL)\n",
                "\n",
                "SELECT * FROM Temp_rank WHERE Rank < 6"
            ],
            "metadata": {
                "language": "sql",
                "azdata_cell_guid": "e40f9574-660d-4bc5-b0ed-0c710d92c5ff",
                "tags": []
            },
            "outputs": [
                {
                    "output_type": "display_data",
                    "data": {
                        "text/html": "(15 rows affected)"
                    },
                    "metadata": {}
                },
                {
                    "output_type": "display_data",
                    "data": {
                        "text/html": "Total execution time: 00:00:27.373"
                    },
                    "metadata": {}
                },
                {
                    "output_type": "execute_result",
                    "metadata": {},
                    "execution_count": 129,
                    "data": {
                        "application/vnd.dataresource+json": {
                            "schema": {
                                "fields": [
                                    {
                                        "name": "Year"
                                    },
                                    {
                                        "name": "customer_id"
                                    },
                                    {
                                        "name": "customer_city"
                                    },
                                    {
                                        "name": "order_amount"
                                    },
                                    {
                                        "name": "Rank"
                                    }
                                ]
                            },
                            "data": [
                                {
                                    "0": "2016",
                                    "1": "a9dc96b027d1252bbac0a9b72d837fc6",
                                    "2": "rio de janeiro",
                                    "3": "1423.55",
                                    "4": "1"
                                },
                                {
                                    "0": "2016",
                                    "1": "1d34ed25963d5aae4cf3d7f3a4cda173",
                                    "2": "quissama",
                                    "3": "1400.74",
                                    "4": "2"
                                },
                                {
                                    "0": "2016",
                                    "1": "4a06381959b6670756de02e07b83815f",
                                    "2": "vargem grande paulista",
                                    "3": "1227.78",
                                    "4": "3"
                                },
                                {
                                    "0": "2016",
                                    "1": "1fc56719b52f82c03caddc5faf531fbb",
                                    "2": "santo antonio da patrulha",
                                    "3": "982.41",
                                    "4": "4"
                                },
                                {
                                    "0": "2016",
                                    "1": "85f0e92957e9fb9c5f72ba5378f492a0",
                                    "2": "rio de janeiro",
                                    "3": "979.91",
                                    "4": "5"
                                },
                                {
                                    "0": "2017",
                                    "1": "1617b1357756262bfa56ab541c47bc16",
                                    "2": "rio de janeiro",
                                    "3": "13664.08",
                                    "4": "1"
                                },
                                {
                                    "0": "2017",
                                    "1": "c6e2731c5b391845f6800c97401a43a9",
                                    "2": "campo grande",
                                    "3": "6929.31",
                                    "4": "2"
                                },
                                {
                                    "0": "2017",
                                    "1": "3fd6777bbce08a352fddd04e4a7cc8f6",
                                    "2": "marilia",
                                    "3": "6726.66",
                                    "4": "3"
                                },
                                {
                                    "0": "2017",
                                    "1": "05455dfa7cd02f13d132aa7a6a9729c6",
                                    "2": "divinopolis",
                                    "3": "6081.54",
                                    "4": "4"
                                },
                                {
                                    "0": "2017",
                                    "1": "df55c14d1476a9a3467f131269c2477f",
                                    "2": "araruama",
                                    "3": "4950.34",
                                    "4": "5"
                                },
                                {
                                    "0": "2018",
                                    "1": "ec5b2ba62e574342386871631fafd3fc",
                                    "2": "vila velha",
                                    "3": "7274.88",
                                    "4": "1"
                                },
                                {
                                    "0": "2018",
                                    "1": "f48d464a0baaea338cb25f816991ab1f",
                                    "2": "vitoria",
                                    "3": "6922.21",
                                    "4": "2"
                                },
                                {
                                    "0": "2018",
                                    "1": "e0a2412720e9ea4f26c1ac985f6a7358",
                                    "2": "goiania",
                                    "3": "4809.44",
                                    "4": "3"
                                },
                                {
                                    "0": "2018",
                                    "1": "3d979689f636322c62418b6346b1c6d2",
                                    "2": "joao pessoa",
                                    "3": "4681.78",
                                    "4": "4"
                                },
                                {
                                    "0": "2018",
                                    "1": "1afc82cd60e303ef09b4ef9837c9505c",
                                    "2": "sao paulo",
                                    "3": "4513.32",
                                    "4": "5"
                                }
                            ]
                        },
                        "text/html": [
                            "<table>",
                            "<tr><th>Year</th><th>customer_id</th><th>customer_city</th><th>order_amount</th><th>Rank</th></tr>",
                            "<tr><td>2016</td><td>a9dc96b027d1252bbac0a9b72d837fc6</td><td>rio de janeiro</td><td>1423.55</td><td>1</td></tr>",
                            "<tr><td>2016</td><td>1d34ed25963d5aae4cf3d7f3a4cda173</td><td>quissama</td><td>1400.74</td><td>2</td></tr>",
                            "<tr><td>2016</td><td>4a06381959b6670756de02e07b83815f</td><td>vargem grande paulista</td><td>1227.78</td><td>3</td></tr>",
                            "<tr><td>2016</td><td>1fc56719b52f82c03caddc5faf531fbb</td><td>santo antonio da patrulha</td><td>982.41</td><td>4</td></tr>",
                            "<tr><td>2016</td><td>85f0e92957e9fb9c5f72ba5378f492a0</td><td>rio de janeiro</td><td>979.91</td><td>5</td></tr>",
                            "<tr><td>2017</td><td>1617b1357756262bfa56ab541c47bc16</td><td>rio de janeiro</td><td>13664.08</td><td>1</td></tr>",
                            "<tr><td>2017</td><td>c6e2731c5b391845f6800c97401a43a9</td><td>campo grande</td><td>6929.31</td><td>2</td></tr>",
                            "<tr><td>2017</td><td>3fd6777bbce08a352fddd04e4a7cc8f6</td><td>marilia</td><td>6726.66</td><td>3</td></tr>",
                            "<tr><td>2017</td><td>05455dfa7cd02f13d132aa7a6a9729c6</td><td>divinopolis</td><td>6081.54</td><td>4</td></tr>",
                            "<tr><td>2017</td><td>df55c14d1476a9a3467f131269c2477f</td><td>araruama</td><td>4950.34</td><td>5</td></tr>",
                            "<tr><td>2018</td><td>ec5b2ba62e574342386871631fafd3fc</td><td>vila velha</td><td>7274.88</td><td>1</td></tr>",
                            "<tr><td>2018</td><td>f48d464a0baaea338cb25f816991ab1f</td><td>vitoria</td><td>6922.21</td><td>2</td></tr>",
                            "<tr><td>2018</td><td>e0a2412720e9ea4f26c1ac985f6a7358</td><td>goiania</td><td>4809.44</td><td>3</td></tr>",
                            "<tr><td>2018</td><td>3d979689f636322c62418b6346b1c6d2</td><td>joao pessoa</td><td>4681.78</td><td>4</td></tr>",
                            "<tr><td>2018</td><td>1afc82cd60e303ef09b4ef9837c9505c</td><td>sao paulo</td><td>4513.32</td><td>5</td></tr>",
                            "</table>"
                        ]
                    }
                }
            ],
            "execution_count": 129
        }
    ]
}